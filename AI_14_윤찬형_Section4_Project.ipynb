{
  "nbformat": 4,
  "nbformat_minor": 0,
  "metadata": {
    "colab": {
      "provenance": [],
      "collapsed_sections": [
        "QCFkrmKeBDVs"
      ],
      "machine_shape": "hm"
    },
    "kernelspec": {
      "name": "python3",
      "display_name": "Python 3"
    },
    "language_info": {
      "name": "python"
    },
    "accelerator": "TPU"
  },
  "cells": [
    {
      "cell_type": "markdown",
      "source": [
        "---\n",
        "# 0. Setup\n",
        "\n",
        "\n",
        "*   Data Import/Preprocessing\n",
        "*   Functions\n",
        "\n"
      ],
      "metadata": {
        "id": "3ujBGGBzywJH"
      }
    },
    {
      "cell_type": "code",
      "source": [
        "from sklearn.model_selection import train_test_split \n",
        "import numpy as np\n",
        "import pandas as pd\n",
        "import matplotlib.pyplot as plt\n",
        "import cv2\n",
        "import os\n",
        "from tqdm import tqdm\n",
        "import tensorflow as tf\n",
        "from tensorflow.keras.layers import *\n",
        "from tensorflow.keras.utils import image_dataset_from_directory\n",
        "import math\n",
        "import gc"
      ],
      "metadata": {
        "id": "zXQfbL1XAEr3"
      },
      "execution_count": 1,
      "outputs": []
    },
    {
      "cell_type": "code",
      "execution_count": 2,
      "metadata": {
        "colab": {
          "base_uri": "https://localhost:8080/"
        },
        "id": "mM8aYxZgxYy0",
        "outputId": "ae535610-d978-4fef-850b-b59e54de7fd5"
      },
      "outputs": [
        {
          "output_type": "stream",
          "name": "stdout",
          "text": [
            "Drive already mounted at /content/drive; to attempt to forcibly remount, call drive.mount(\"/content/drive\", force_remount=True).\n"
          ]
        }
      ],
      "source": [
        "from google.colab import drive\n",
        "drive.mount('/content/drive')"
      ]
    },
    {
      "cell_type": "code",
      "source": [
        "SEED = 42\n",
        "EPOCHS = 50\n",
        "BATCH_SIZE = 32\n",
        "IMG_SIZE = 256\n",
        "ROOT = \"/content/drive/MyDrive/kaggle_bee_vs_wasp/\""
      ],
      "metadata": {
        "id": "grPGOVE_N_Mr"
      },
      "execution_count": 3,
      "outputs": []
    },
    {
      "cell_type": "code",
      "source": [
        "#Fix the seed\n",
        "np.random.seed(SEED)\n",
        "tf.random.set_seed(SEED)"
      ],
      "metadata": {
        "id": "j0gcKQQeAaSS"
      },
      "execution_count": 4,
      "outputs": []
    },
    {
      "cell_type": "code",
      "source": [
        "df = pd.read_csv(ROOT+'labels.csv')\n",
        "df.head()"
      ],
      "metadata": {
        "colab": {
          "base_uri": "https://localhost:8080/",
          "height": 206
        },
        "id": "D0QHnP2pRft2",
        "outputId": "319f0c20-c2d6-4790-f05e-26198447b304"
      },
      "execution_count": 5,
      "outputs": [
        {
          "output_type": "execute_result",
          "data": {
            "text/plain": [
              "   id                               path  is_bee  is_wasp  is_otherinsect  \\\n",
              "0   1  bee1\\10007154554_026417cfd0_n.jpg       1        0               0   \n",
              "1   2  bee1\\10024864894_6dc54d4b34_n.jpg       1        0               0   \n",
              "2   3  bee1\\10092043833_7306dfd1f0_n.jpg       1        0               0   \n",
              "3   4   bee1\\1011948979_fc3637e779_w.jpg       1        0               0   \n",
              "4   5  bee1\\10128235063_dca17db76c_n.jpg       1        0               0   \n",
              "\n",
              "   is_other  photo_quality  is_validation  is_final_validation label  \n",
              "0         0              1              0                    0   bee  \n",
              "1         0              1              0                    1   bee  \n",
              "2         0              1              1                    0   bee  \n",
              "3         0              1              0                    1   bee  \n",
              "4         0              1              0                    0   bee  "
            ],
            "text/html": [
              "\n",
              "  <div id=\"df-5d912115-57f1-4c92-a042-883d15272529\">\n",
              "    <div class=\"colab-df-container\">\n",
              "      <div>\n",
              "<style scoped>\n",
              "    .dataframe tbody tr th:only-of-type {\n",
              "        vertical-align: middle;\n",
              "    }\n",
              "\n",
              "    .dataframe tbody tr th {\n",
              "        vertical-align: top;\n",
              "    }\n",
              "\n",
              "    .dataframe thead th {\n",
              "        text-align: right;\n",
              "    }\n",
              "</style>\n",
              "<table border=\"1\" class=\"dataframe\">\n",
              "  <thead>\n",
              "    <tr style=\"text-align: right;\">\n",
              "      <th></th>\n",
              "      <th>id</th>\n",
              "      <th>path</th>\n",
              "      <th>is_bee</th>\n",
              "      <th>is_wasp</th>\n",
              "      <th>is_otherinsect</th>\n",
              "      <th>is_other</th>\n",
              "      <th>photo_quality</th>\n",
              "      <th>is_validation</th>\n",
              "      <th>is_final_validation</th>\n",
              "      <th>label</th>\n",
              "    </tr>\n",
              "  </thead>\n",
              "  <tbody>\n",
              "    <tr>\n",
              "      <th>0</th>\n",
              "      <td>1</td>\n",
              "      <td>bee1\\10007154554_026417cfd0_n.jpg</td>\n",
              "      <td>1</td>\n",
              "      <td>0</td>\n",
              "      <td>0</td>\n",
              "      <td>0</td>\n",
              "      <td>1</td>\n",
              "      <td>0</td>\n",
              "      <td>0</td>\n",
              "      <td>bee</td>\n",
              "    </tr>\n",
              "    <tr>\n",
              "      <th>1</th>\n",
              "      <td>2</td>\n",
              "      <td>bee1\\10024864894_6dc54d4b34_n.jpg</td>\n",
              "      <td>1</td>\n",
              "      <td>0</td>\n",
              "      <td>0</td>\n",
              "      <td>0</td>\n",
              "      <td>1</td>\n",
              "      <td>0</td>\n",
              "      <td>1</td>\n",
              "      <td>bee</td>\n",
              "    </tr>\n",
              "    <tr>\n",
              "      <th>2</th>\n",
              "      <td>3</td>\n",
              "      <td>bee1\\10092043833_7306dfd1f0_n.jpg</td>\n",
              "      <td>1</td>\n",
              "      <td>0</td>\n",
              "      <td>0</td>\n",
              "      <td>0</td>\n",
              "      <td>1</td>\n",
              "      <td>1</td>\n",
              "      <td>0</td>\n",
              "      <td>bee</td>\n",
              "    </tr>\n",
              "    <tr>\n",
              "      <th>3</th>\n",
              "      <td>4</td>\n",
              "      <td>bee1\\1011948979_fc3637e779_w.jpg</td>\n",
              "      <td>1</td>\n",
              "      <td>0</td>\n",
              "      <td>0</td>\n",
              "      <td>0</td>\n",
              "      <td>1</td>\n",
              "      <td>0</td>\n",
              "      <td>1</td>\n",
              "      <td>bee</td>\n",
              "    </tr>\n",
              "    <tr>\n",
              "      <th>4</th>\n",
              "      <td>5</td>\n",
              "      <td>bee1\\10128235063_dca17db76c_n.jpg</td>\n",
              "      <td>1</td>\n",
              "      <td>0</td>\n",
              "      <td>0</td>\n",
              "      <td>0</td>\n",
              "      <td>1</td>\n",
              "      <td>0</td>\n",
              "      <td>0</td>\n",
              "      <td>bee</td>\n",
              "    </tr>\n",
              "  </tbody>\n",
              "</table>\n",
              "</div>\n",
              "      <button class=\"colab-df-convert\" onclick=\"convertToInteractive('df-5d912115-57f1-4c92-a042-883d15272529')\"\n",
              "              title=\"Convert this dataframe to an interactive table.\"\n",
              "              style=\"display:none;\">\n",
              "        \n",
              "  <svg xmlns=\"http://www.w3.org/2000/svg\" height=\"24px\"viewBox=\"0 0 24 24\"\n",
              "       width=\"24px\">\n",
              "    <path d=\"M0 0h24v24H0V0z\" fill=\"none\"/>\n",
              "    <path d=\"M18.56 5.44l.94 2.06.94-2.06 2.06-.94-2.06-.94-.94-2.06-.94 2.06-2.06.94zm-11 1L8.5 8.5l.94-2.06 2.06-.94-2.06-.94L8.5 2.5l-.94 2.06-2.06.94zm10 10l.94 2.06.94-2.06 2.06-.94-2.06-.94-.94-2.06-.94 2.06-2.06.94z\"/><path d=\"M17.41 7.96l-1.37-1.37c-.4-.4-.92-.59-1.43-.59-.52 0-1.04.2-1.43.59L10.3 9.45l-7.72 7.72c-.78.78-.78 2.05 0 2.83L4 21.41c.39.39.9.59 1.41.59.51 0 1.02-.2 1.41-.59l7.78-7.78 2.81-2.81c.8-.78.8-2.07 0-2.86zM5.41 20L4 18.59l7.72-7.72 1.47 1.35L5.41 20z\"/>\n",
              "  </svg>\n",
              "      </button>\n",
              "      \n",
              "  <style>\n",
              "    .colab-df-container {\n",
              "      display:flex;\n",
              "      flex-wrap:wrap;\n",
              "      gap: 12px;\n",
              "    }\n",
              "\n",
              "    .colab-df-convert {\n",
              "      background-color: #E8F0FE;\n",
              "      border: none;\n",
              "      border-radius: 50%;\n",
              "      cursor: pointer;\n",
              "      display: none;\n",
              "      fill: #1967D2;\n",
              "      height: 32px;\n",
              "      padding: 0 0 0 0;\n",
              "      width: 32px;\n",
              "    }\n",
              "\n",
              "    .colab-df-convert:hover {\n",
              "      background-color: #E2EBFA;\n",
              "      box-shadow: 0px 1px 2px rgba(60, 64, 67, 0.3), 0px 1px 3px 1px rgba(60, 64, 67, 0.15);\n",
              "      fill: #174EA6;\n",
              "    }\n",
              "\n",
              "    [theme=dark] .colab-df-convert {\n",
              "      background-color: #3B4455;\n",
              "      fill: #D2E3FC;\n",
              "    }\n",
              "\n",
              "    [theme=dark] .colab-df-convert:hover {\n",
              "      background-color: #434B5C;\n",
              "      box-shadow: 0px 1px 3px 1px rgba(0, 0, 0, 0.15);\n",
              "      filter: drop-shadow(0px 1px 2px rgba(0, 0, 0, 0.3));\n",
              "      fill: #FFFFFF;\n",
              "    }\n",
              "  </style>\n",
              "\n",
              "      <script>\n",
              "        const buttonEl =\n",
              "          document.querySelector('#df-5d912115-57f1-4c92-a042-883d15272529 button.colab-df-convert');\n",
              "        buttonEl.style.display =\n",
              "          google.colab.kernel.accessAllowed ? 'block' : 'none';\n",
              "\n",
              "        async function convertToInteractive(key) {\n",
              "          const element = document.querySelector('#df-5d912115-57f1-4c92-a042-883d15272529');\n",
              "          const dataTable =\n",
              "            await google.colab.kernel.invokeFunction('convertToInteractive',\n",
              "                                                     [key], {});\n",
              "          if (!dataTable) return;\n",
              "\n",
              "          const docLinkHtml = 'Like what you see? Visit the ' +\n",
              "            '<a target=\"_blank\" href=https://colab.research.google.com/notebooks/data_table.ipynb>data table notebook</a>'\n",
              "            + ' to learn more about interactive tables.';\n",
              "          element.innerHTML = '';\n",
              "          dataTable['output_type'] = 'display_data';\n",
              "          await google.colab.output.renderOutput(dataTable, element);\n",
              "          const docLink = document.createElement('div');\n",
              "          docLink.innerHTML = docLinkHtml;\n",
              "          element.appendChild(docLink);\n",
              "        }\n",
              "      </script>\n",
              "    </div>\n",
              "  </div>\n",
              "  "
            ]
          },
          "metadata": {},
          "execution_count": 5
        }
      ]
    },
    {
      "cell_type": "code",
      "source": [
        "for idx in df.index:    \n",
        "    df.loc[idx,'path']=df.loc[idx,'path'].replace('\\\\', '/')     \n",
        "df.head()"
      ],
      "metadata": {
        "colab": {
          "base_uri": "https://localhost:8080/",
          "height": 206
        },
        "id": "ZYTCS_pjYthh",
        "outputId": "f589024a-6cb9-408e-c9e4-2dc2573b11f0"
      },
      "execution_count": 6,
      "outputs": [
        {
          "output_type": "execute_result",
          "data": {
            "text/plain": [
              "   id                               path  is_bee  is_wasp  is_otherinsect  \\\n",
              "0   1  bee1/10007154554_026417cfd0_n.jpg       1        0               0   \n",
              "1   2  bee1/10024864894_6dc54d4b34_n.jpg       1        0               0   \n",
              "2   3  bee1/10092043833_7306dfd1f0_n.jpg       1        0               0   \n",
              "3   4   bee1/1011948979_fc3637e779_w.jpg       1        0               0   \n",
              "4   5  bee1/10128235063_dca17db76c_n.jpg       1        0               0   \n",
              "\n",
              "   is_other  photo_quality  is_validation  is_final_validation label  \n",
              "0         0              1              0                    0   bee  \n",
              "1         0              1              0                    1   bee  \n",
              "2         0              1              1                    0   bee  \n",
              "3         0              1              0                    1   bee  \n",
              "4         0              1              0                    0   bee  "
            ],
            "text/html": [
              "\n",
              "  <div id=\"df-be1fe1b0-0e4a-4d0e-96c1-5a3209e67985\">\n",
              "    <div class=\"colab-df-container\">\n",
              "      <div>\n",
              "<style scoped>\n",
              "    .dataframe tbody tr th:only-of-type {\n",
              "        vertical-align: middle;\n",
              "    }\n",
              "\n",
              "    .dataframe tbody tr th {\n",
              "        vertical-align: top;\n",
              "    }\n",
              "\n",
              "    .dataframe thead th {\n",
              "        text-align: right;\n",
              "    }\n",
              "</style>\n",
              "<table border=\"1\" class=\"dataframe\">\n",
              "  <thead>\n",
              "    <tr style=\"text-align: right;\">\n",
              "      <th></th>\n",
              "      <th>id</th>\n",
              "      <th>path</th>\n",
              "      <th>is_bee</th>\n",
              "      <th>is_wasp</th>\n",
              "      <th>is_otherinsect</th>\n",
              "      <th>is_other</th>\n",
              "      <th>photo_quality</th>\n",
              "      <th>is_validation</th>\n",
              "      <th>is_final_validation</th>\n",
              "      <th>label</th>\n",
              "    </tr>\n",
              "  </thead>\n",
              "  <tbody>\n",
              "    <tr>\n",
              "      <th>0</th>\n",
              "      <td>1</td>\n",
              "      <td>bee1/10007154554_026417cfd0_n.jpg</td>\n",
              "      <td>1</td>\n",
              "      <td>0</td>\n",
              "      <td>0</td>\n",
              "      <td>0</td>\n",
              "      <td>1</td>\n",
              "      <td>0</td>\n",
              "      <td>0</td>\n",
              "      <td>bee</td>\n",
              "    </tr>\n",
              "    <tr>\n",
              "      <th>1</th>\n",
              "      <td>2</td>\n",
              "      <td>bee1/10024864894_6dc54d4b34_n.jpg</td>\n",
              "      <td>1</td>\n",
              "      <td>0</td>\n",
              "      <td>0</td>\n",
              "      <td>0</td>\n",
              "      <td>1</td>\n",
              "      <td>0</td>\n",
              "      <td>1</td>\n",
              "      <td>bee</td>\n",
              "    </tr>\n",
              "    <tr>\n",
              "      <th>2</th>\n",
              "      <td>3</td>\n",
              "      <td>bee1/10092043833_7306dfd1f0_n.jpg</td>\n",
              "      <td>1</td>\n",
              "      <td>0</td>\n",
              "      <td>0</td>\n",
              "      <td>0</td>\n",
              "      <td>1</td>\n",
              "      <td>1</td>\n",
              "      <td>0</td>\n",
              "      <td>bee</td>\n",
              "    </tr>\n",
              "    <tr>\n",
              "      <th>3</th>\n",
              "      <td>4</td>\n",
              "      <td>bee1/1011948979_fc3637e779_w.jpg</td>\n",
              "      <td>1</td>\n",
              "      <td>0</td>\n",
              "      <td>0</td>\n",
              "      <td>0</td>\n",
              "      <td>1</td>\n",
              "      <td>0</td>\n",
              "      <td>1</td>\n",
              "      <td>bee</td>\n",
              "    </tr>\n",
              "    <tr>\n",
              "      <th>4</th>\n",
              "      <td>5</td>\n",
              "      <td>bee1/10128235063_dca17db76c_n.jpg</td>\n",
              "      <td>1</td>\n",
              "      <td>0</td>\n",
              "      <td>0</td>\n",
              "      <td>0</td>\n",
              "      <td>1</td>\n",
              "      <td>0</td>\n",
              "      <td>0</td>\n",
              "      <td>bee</td>\n",
              "    </tr>\n",
              "  </tbody>\n",
              "</table>\n",
              "</div>\n",
              "      <button class=\"colab-df-convert\" onclick=\"convertToInteractive('df-be1fe1b0-0e4a-4d0e-96c1-5a3209e67985')\"\n",
              "              title=\"Convert this dataframe to an interactive table.\"\n",
              "              style=\"display:none;\">\n",
              "        \n",
              "  <svg xmlns=\"http://www.w3.org/2000/svg\" height=\"24px\"viewBox=\"0 0 24 24\"\n",
              "       width=\"24px\">\n",
              "    <path d=\"M0 0h24v24H0V0z\" fill=\"none\"/>\n",
              "    <path d=\"M18.56 5.44l.94 2.06.94-2.06 2.06-.94-2.06-.94-.94-2.06-.94 2.06-2.06.94zm-11 1L8.5 8.5l.94-2.06 2.06-.94-2.06-.94L8.5 2.5l-.94 2.06-2.06.94zm10 10l.94 2.06.94-2.06 2.06-.94-2.06-.94-.94-2.06-.94 2.06-2.06.94z\"/><path d=\"M17.41 7.96l-1.37-1.37c-.4-.4-.92-.59-1.43-.59-.52 0-1.04.2-1.43.59L10.3 9.45l-7.72 7.72c-.78.78-.78 2.05 0 2.83L4 21.41c.39.39.9.59 1.41.59.51 0 1.02-.2 1.41-.59l7.78-7.78 2.81-2.81c.8-.78.8-2.07 0-2.86zM5.41 20L4 18.59l7.72-7.72 1.47 1.35L5.41 20z\"/>\n",
              "  </svg>\n",
              "      </button>\n",
              "      \n",
              "  <style>\n",
              "    .colab-df-container {\n",
              "      display:flex;\n",
              "      flex-wrap:wrap;\n",
              "      gap: 12px;\n",
              "    }\n",
              "\n",
              "    .colab-df-convert {\n",
              "      background-color: #E8F0FE;\n",
              "      border: none;\n",
              "      border-radius: 50%;\n",
              "      cursor: pointer;\n",
              "      display: none;\n",
              "      fill: #1967D2;\n",
              "      height: 32px;\n",
              "      padding: 0 0 0 0;\n",
              "      width: 32px;\n",
              "    }\n",
              "\n",
              "    .colab-df-convert:hover {\n",
              "      background-color: #E2EBFA;\n",
              "      box-shadow: 0px 1px 2px rgba(60, 64, 67, 0.3), 0px 1px 3px 1px rgba(60, 64, 67, 0.15);\n",
              "      fill: #174EA6;\n",
              "    }\n",
              "\n",
              "    [theme=dark] .colab-df-convert {\n",
              "      background-color: #3B4455;\n",
              "      fill: #D2E3FC;\n",
              "    }\n",
              "\n",
              "    [theme=dark] .colab-df-convert:hover {\n",
              "      background-color: #434B5C;\n",
              "      box-shadow: 0px 1px 3px 1px rgba(0, 0, 0, 0.15);\n",
              "      filter: drop-shadow(0px 1px 2px rgba(0, 0, 0, 0.3));\n",
              "      fill: #FFFFFF;\n",
              "    }\n",
              "  </style>\n",
              "\n",
              "      <script>\n",
              "        const buttonEl =\n",
              "          document.querySelector('#df-be1fe1b0-0e4a-4d0e-96c1-5a3209e67985 button.colab-df-convert');\n",
              "        buttonEl.style.display =\n",
              "          google.colab.kernel.accessAllowed ? 'block' : 'none';\n",
              "\n",
              "        async function convertToInteractive(key) {\n",
              "          const element = document.querySelector('#df-be1fe1b0-0e4a-4d0e-96c1-5a3209e67985');\n",
              "          const dataTable =\n",
              "            await google.colab.kernel.invokeFunction('convertToInteractive',\n",
              "                                                     [key], {});\n",
              "          if (!dataTable) return;\n",
              "\n",
              "          const docLinkHtml = 'Like what you see? Visit the ' +\n",
              "            '<a target=\"_blank\" href=https://colab.research.google.com/notebooks/data_table.ipynb>data table notebook</a>'\n",
              "            + ' to learn more about interactive tables.';\n",
              "          element.innerHTML = '';\n",
              "          dataTable['output_type'] = 'display_data';\n",
              "          await google.colab.output.renderOutput(dataTable, element);\n",
              "          const docLink = document.createElement('div');\n",
              "          docLink.innerHTML = docLinkHtml;\n",
              "          element.appendChild(docLink);\n",
              "        }\n",
              "      </script>\n",
              "    </div>\n",
              "  </div>\n",
              "  "
            ]
          },
          "metadata": {},
          "execution_count": 6
        }
      ]
    },
    {
      "cell_type": "code",
      "source": [
        "def create_datasets(df, img_size):\n",
        "    imgs = []\n",
        "    for path in tqdm(df['path']):\n",
        "        img = cv2.imread(ROOT+path)\n",
        "        img = cv2.cvtColor(img, cv2.COLOR_BGR2RGB)\n",
        "        img = cv2.resize(img, (img_size,img_size))\n",
        "        imgs.append(img)\n",
        "        \n",
        "    imgs = np.array(imgs, dtype='float32')\n",
        "    imgs = imgs / 255.0\n",
        "    df = pd.get_dummies(df['label'])\n",
        "\n",
        "    return imgs, df"
      ],
      "metadata": {
        "id": "eKf9MYSpRdcj"
      },
      "execution_count": 7,
      "outputs": []
    },
    {
      "cell_type": "code",
      "source": [
        "def build_model(img_size, n, output_dim, one_hot=True, num_classes=0):\n",
        "    input = Input(shape=(img_size,img_size,n))\n",
        "    resnet = tf.keras.applications.ResNet50(input_shape=(img_size,img_size,n), \n",
        "                                            weights='imagenet', \n",
        "                                            include_top=False)\n",
        "    for layer in resnet.layers: layer.trainable = True\n",
        "    \n",
        "    x = resnet(input)\n",
        "    x = GlobalAveragePooling2D()(x)\n",
        "    x = Dropout(0.2)(x)\n",
        "    x = Dense(output_dim, activation='softmax')(x)\n",
        "    \n",
        "    if one_hot is False:\n",
        "      x = Dense(num_classes)(x)\n",
        "\n",
        "    model = tf.keras.Model(inputs=input, outputs=x) \n",
        "    opt = tf.keras.optimizers.SGD(momentum=0.9)\n",
        "    model.compile(optimizer=opt, loss='categorical_crossentropy', metrics=['accuracy'])\n",
        "    \n",
        "    return model"
      ],
      "metadata": {
        "id": "REIAJhm5eusl"
      },
      "execution_count": 8,
      "outputs": []
    },
    {
      "cell_type": "code",
      "source": [
        "def get_lr_callback(batch_size=32, plot=False):\n",
        "    start_lr = 3e-4\n",
        "    def step_decay(epoch):\n",
        "        drop = 0.5\n",
        "        epochs_drop = 10.0\n",
        "        lr = start_lr * math.pow(drop, math.floor((1+epoch)/epochs_drop))\n",
        "        return lr\n",
        "    \n",
        "    lr_callback = tf.keras.callbacks.LearningRateScheduler(step_decay)\n",
        "    if plot == True:\n",
        "        rng = [i for i in range(EPOCHS)]\n",
        "        y = [step_decay(x) for x in rng]\n",
        "        plt.plot(rng, y)\n",
        "        plt.xlabel('epoch', size=14)\n",
        "        plt.ylabel('learning_rate', size=14)\n",
        "        plt.title('Training Schedule', size=16)\n",
        "        plt.show()\n",
        "        \n",
        "    return lr_callback\n",
        "\n",
        "\n",
        "get_lr_callback(plot=True)"
      ],
      "metadata": {
        "colab": {
          "base_uri": "https://localhost:8080/",
          "height": 318
        },
        "id": "nP_t9h7q12TR",
        "outputId": "f93f57f2-6147-4387-f980-48e88108c7fc"
      },
      "execution_count": 9,
      "outputs": [
        {
          "output_type": "display_data",
          "data": {
            "text/plain": [
              "<Figure size 432x288 with 1 Axes>"
            ],
            "image/png": "[encoded data removed]"
          },
          "metadata": {
            "needs_background": "light"
          }
        },
        {
          "output_type": "execute_result",
          "data": {
            "text/plain": [
              "<keras.callbacks.LearningRateScheduler at 0x7fad541d6d10>"
            ]
          },
          "metadata": {},
          "execution_count": 9
        }
      ]
    },
    {
      "cell_type": "code",
      "source": [
        "es_callback = tf.keras.callbacks.EarlyStopping(patience=10, \n",
        "                                               verbose=1, \n",
        "                                               restore_best_weights=True)"
      ],
      "metadata": {
        "id": "9lI9wigw1y_p"
      },
      "execution_count": 10,
      "outputs": []
    },
    {
      "cell_type": "code",
      "source": [
        "def visualize_learning_history(history):\n",
        "  '''\n",
        "  Visualize deep learning accuracy/loss of train/validation datasets over epochs.\n",
        "  Source: https://www.tensorflow.org/tutorials/images/transfer_learning\n",
        "  '''\n",
        "  acc = history.history['accuracy']\n",
        "  val_acc = history.history['val_accuracy']\n",
        "\n",
        "  loss = history.history['loss']\n",
        "  val_loss = history.history['val_loss']\n",
        "\n",
        "  plt.figure(figsize=(8, 8))\n",
        "  plt.subplot(2, 1, 1)\n",
        "  plt.plot(acc, label='Training Accuracy')\n",
        "  plt.plot(val_acc, label='Validation Accuracy')\n",
        "  plt.legend(loc='lower right')\n",
        "  plt.ylabel('Accuracy')\n",
        "  plt.ylim([min(plt.ylim()),1])\n",
        "  plt.title('Training and Validation Accuracy')\n",
        "\n",
        "  plt.subplot(2, 1, 2)\n",
        "  plt.plot(loss, label='Training Loss')\n",
        "  plt.plot(val_loss, label='Validation Loss')\n",
        "  plt.legend(loc='upper right')\n",
        "  plt.ylabel('Cross Entropy')\n",
        "  plt.ylim([0,1.0])\n",
        "  plt.title('Training and Validation Loss')\n",
        "  plt.xlabel('epoch')\n",
        "  plt.show()"
      ],
      "metadata": {
        "id": "tf29_7qsx5Km"
      },
      "execution_count": 11,
      "outputs": []
    },
    {
      "cell_type": "markdown",
      "source": [
        "---\n",
        "# 1. Scikit learn Train_test_split"
      ],
      "metadata": {
        "id": "_mw5sdVnBYIb"
      }
    },
    {
      "cell_type": "code",
      "source": [
        "# Train: 0.7, Validation: 0.15, Test:0.15\n",
        "train_df, val_df = train_test_split(df, train_size=0.7, random_state=SEED)\n",
        "val_df, test_df = train_test_split(val_df, train_size=0.5, random_state=SEED)\n",
        "\n",
        "train_df.reset_index(drop=True)\n",
        "val_df.reset_index(drop=True)\n",
        "test_df.reset_index(drop=True)"
      ],
      "metadata": {
        "colab": {
          "base_uri": "https://localhost:8080/",
          "height": 424
        },
        "id": "cW64xwbfeyc1",
        "outputId": "80738c24-30be-4e00-99a7-c64836c58c14"
      },
      "execution_count": 12,
      "outputs": [
        {
          "output_type": "execute_result",
          "data": {
            "text/plain": [
              "         id                                      path  is_bee  is_wasp  \\\n",
              "0     11396                 other_noinsect/580248.jpg       0        0   \n",
              "1     10563  other_insect/9955062984_735ded0bd9_m.jpg       0        0   \n",
              "2      5182          wasp1/853796237_fff6e58dc5_n.jpg       0        1   \n",
              "3      4050        wasp1/31870193634_a92cc1c5fb_n.jpg       0        1   \n",
              "4      6818                          wasp2/I00077.jpg       0        1   \n",
              "...     ...                                       ...     ...      ...   \n",
              "1709     24         bee1/10457143913_149e654aaa_n.jpg       1        0   \n",
              "1710   3959         wasp1/2880978970_1ef8f8c564_n.jpg       0        1   \n",
              "1711   2944                       bee2/P22578-96r.jpg       1        0   \n",
              "1712  10359  other_insect/7545957144_5042f84d12_n.jpg       0        0   \n",
              "1713   9213  other_insect/3607416960_976351ab76_w.jpg       0        0   \n",
              "\n",
              "      is_otherinsect  is_other  photo_quality  is_validation  \\\n",
              "0                  0         1              0              0   \n",
              "1                  1         0              1              0   \n",
              "2                  0         0              1              0   \n",
              "3                  0         0              1              0   \n",
              "4                  0         0              0              0   \n",
              "...              ...       ...            ...            ...   \n",
              "1709               0         0              1              1   \n",
              "1710               0         0              1              0   \n",
              "1711               0         0              0              0   \n",
              "1712               1         0              1              0   \n",
              "1713               1         0              1              0   \n",
              "\n",
              "      is_final_validation   label  \n",
              "0                       0   other  \n",
              "1                       1  insect  \n",
              "2                       0    wasp  \n",
              "3                       0    wasp  \n",
              "4                       0    wasp  \n",
              "...                   ...     ...  \n",
              "1709                    0     bee  \n",
              "1710                    0    wasp  \n",
              "1711                    0     bee  \n",
              "1712                    0  insect  \n",
              "1713                    0  insect  \n",
              "\n",
              "[1714 rows x 10 columns]"
            ],
            "text/html": [
              "\n",
              "  <div id=\"df-0eed6758-685c-4c10-bd66-1f91ac051246\">\n",
              "    <div class=\"colab-df-container\">\n",
              "      <div>\n",
              "<style scoped>\n",
              "    .dataframe tbody tr th:only-of-type {\n",
              "        vertical-align: middle;\n",
              "    }\n",
              "\n",
              "    .dataframe tbody tr th {\n",
              "        vertical-align: top;\n",
              "    }\n",
              "\n",
              "    .dataframe thead th {\n",
              "        text-align: right;\n",
              "    }\n",
              "</style>\n",
              "<table border=\"1\" class=\"dataframe\">\n",
              "  <thead>\n",
              "    <tr style=\"text-align: right;\">\n",
              "      <th></th>\n",
              "      <th>id</th>\n",
              "      <th>path</th>\n",
              "      <th>is_bee</th>\n",
              "      <th>is_wasp</th>\n",
              "      <th>is_otherinsect</th>\n",
              "      <th>is_other</th>\n",
              "      <th>photo_quality</th>\n",
              "      <th>is_validation</th>\n",
              "      <th>is_final_validation</th>\n",
              "      <th>label</th>\n",
              "    </tr>\n",
              "  </thead>\n",
              "  <tbody>\n",
              "    <tr>\n",
              "      <th>0</th>\n",
              "      <td>11396</td>\n",
              "      <td>other_noinsect/580248.jpg</td>\n",
              "      <td>0</td>\n",
              "      <td>0</td>\n",
              "      <td>0</td>\n",
              "      <td>1</td>\n",
              "      <td>0</td>\n",
              "      <td>0</td>\n",
              "      <td>0</td>\n",
              "      <td>other</td>\n",
              "    </tr>\n",
              "    <tr>\n",
              "      <th>1</th>\n",
              "      <td>10563</td>\n",
              "      <td>other_insect/9955062984_735ded0bd9_m.jpg</td>\n",
              "      <td>0</td>\n",
              "      <td>0</td>\n",
              "      <td>1</td>\n",
              "      <td>0</td>\n",
              "      <td>1</td>\n",
              "      <td>0</td>\n",
              "      <td>1</td>\n",
              "      <td>insect</td>\n",
              "    </tr>\n",
              "    <tr>\n",
              "      <th>2</th>\n",
              "      <td>5182</td>\n",
              "      <td>wasp1/853796237_fff6e58dc5_n.jpg</td>\n",
              "      <td>0</td>\n",
              "      <td>1</td>\n",
              "      <td>0</td>\n",
              "      <td>0</td>\n",
              "      <td>1</td>\n",
              "      <td>0</td>\n",
              "      <td>0</td>\n",
              "      <td>wasp</td>\n",
              "    </tr>\n",
              "    <tr>\n",
              "      <th>3</th>\n",
              "      <td>4050</td>\n",
              "      <td>wasp1/31870193634_a92cc1c5fb_n.jpg</td>\n",
              "      <td>0</td>\n",
              "      <td>1</td>\n",
              "      <td>0</td>\n",
              "      <td>0</td>\n",
              "      <td>1</td>\n",
              "      <td>0</td>\n",
              "      <td>0</td>\n",
              "      <td>wasp</td>\n",
              "    </tr>\n",
              "    <tr>\n",
              "      <th>4</th>\n",
              "      <td>6818</td>\n",
              "      <td>wasp2/I00077.jpg</td>\n",
              "      <td>0</td>\n",
              "      <td>1</td>\n",
              "      <td>0</td>\n",
              "      <td>0</td>\n",
              "      <td>0</td>\n",
              "      <td>0</td>\n",
              "      <td>0</td>\n",
              "      <td>wasp</td>\n",
              "    </tr>\n",
              "    <tr>\n",
              "      <th>...</th>\n",
              "      <td>...</td>\n",
              "      <td>...</td>\n",
              "      <td>...</td>\n",
              "      <td>...</td>\n",
              "      <td>...</td>\n",
              "      <td>...</td>\n",
              "      <td>...</td>\n",
              "      <td>...</td>\n",
              "      <td>...</td>\n",
              "      <td>...</td>\n",
              "    </tr>\n",
              "    <tr>\n",
              "      <th>1709</th>\n",
              "      <td>24</td>\n",
              "      <td>bee1/10457143913_149e654aaa_n.jpg</td>\n",
              "      <td>1</td>\n",
              "      <td>0</td>\n",
              "      <td>0</td>\n",
              "      <td>0</td>\n",
              "      <td>1</td>\n",
              "      <td>1</td>\n",
              "      <td>0</td>\n",
              "      <td>bee</td>\n",
              "    </tr>\n",
              "    <tr>\n",
              "      <th>1710</th>\n",
              "      <td>3959</td>\n",
              "      <td>wasp1/2880978970_1ef8f8c564_n.jpg</td>\n",
              "      <td>0</td>\n",
              "      <td>1</td>\n",
              "      <td>0</td>\n",
              "      <td>0</td>\n",
              "      <td>1</td>\n",
              "      <td>0</td>\n",
              "      <td>0</td>\n",
              "      <td>wasp</td>\n",
              "    </tr>\n",
              "    <tr>\n",
              "      <th>1711</th>\n",
              "      <td>2944</td>\n",
              "      <td>bee2/P22578-96r.jpg</td>\n",
              "      <td>1</td>\n",
              "      <td>0</td>\n",
              "      <td>0</td>\n",
              "      <td>0</td>\n",
              "      <td>0</td>\n",
              "      <td>0</td>\n",
              "      <td>0</td>\n",
              "      <td>bee</td>\n",
              "    </tr>\n",
              "    <tr>\n",
              "      <th>1712</th>\n",
              "      <td>10359</td>\n",
              "      <td>other_insect/7545957144_5042f84d12_n.jpg</td>\n",
              "      <td>0</td>\n",
              "      <td>0</td>\n",
              "      <td>1</td>\n",
              "      <td>0</td>\n",
              "      <td>1</td>\n",
              "      <td>0</td>\n",
              "      <td>0</td>\n",
              "      <td>insect</td>\n",
              "    </tr>\n",
              "    <tr>\n",
              "      <th>1713</th>\n",
              "      <td>9213</td>\n",
              "      <td>other_insect/3607416960_976351ab76_w.jpg</td>\n",
              "      <td>0</td>\n",
              "      <td>0</td>\n",
              "      <td>1</td>\n",
              "      <td>0</td>\n",
              "      <td>1</td>\n",
              "      <td>0</td>\n",
              "      <td>0</td>\n",
              "      <td>insect</td>\n",
              "    </tr>\n",
              "  </tbody>\n",
              "</table>\n",
              "<p>1714 rows × 10 columns</p>\n",
              "</div>\n",
              "      <button class=\"colab-df-convert\" onclick=\"convertToInteractive('df-0eed6758-685c-4c10-bd66-1f91ac051246')\"\n",
              "              title=\"Convert this dataframe to an interactive table.\"\n",
              "              style=\"display:none;\">\n",
              "        \n",
              "  <svg xmlns=\"http://www.w3.org/2000/svg\" height=\"24px\"viewBox=\"0 0 24 24\"\n",
              "       width=\"24px\">\n",
              "    <path d=\"M0 0h24v24H0V0z\" fill=\"none\"/>\n",
              "    <path d=\"M18.56 5.44l.94 2.06.94-2.06 2.06-.94-2.06-.94-.94-2.06-.94 2.06-2.06.94zm-11 1L8.5 8.5l.94-2.06 2.06-.94-2.06-.94L8.5 2.5l-.94 2.06-2.06.94zm10 10l.94 2.06.94-2.06 2.06-.94-2.06-.94-.94-2.06-.94 2.06-2.06.94z\"/><path d=\"M17.41 7.96l-1.37-1.37c-.4-.4-.92-.59-1.43-.59-.52 0-1.04.2-1.43.59L10.3 9.45l-7.72 7.72c-.78.78-.78 2.05 0 2.83L4 21.41c.39.39.9.59 1.41.59.51 0 1.02-.2 1.41-.59l7.78-7.78 2.81-2.81c.8-.78.8-2.07 0-2.86zM5.41 20L4 18.59l7.72-7.72 1.47 1.35L5.41 20z\"/>\n",
              "  </svg>\n",
              "      </button>\n",
              "      \n",
              "  <style>\n",
              "    .colab-df-container {\n",
              "      display:flex;\n",
              "      flex-wrap:wrap;\n",
              "      gap: 12px;\n",
              "    }\n",
              "\n",
              "    .colab-df-convert {\n",
              "      background-color: #E8F0FE;\n",
              "      border: none;\n",
              "      border-radius: 50%;\n",
              "      cursor: pointer;\n",
              "      display: none;\n",
              "      fill: #1967D2;\n",
              "      height: 32px;\n",
              "      padding: 0 0 0 0;\n",
              "      width: 32px;\n",
              "    }\n",
              "\n",
              "    .colab-df-convert:hover {\n",
              "      background-color: #E2EBFA;\n",
              "      box-shadow: 0px 1px 2px rgba(60, 64, 67, 0.3), 0px 1px 3px 1px rgba(60, 64, 67, 0.15);\n",
              "      fill: #174EA6;\n",
              "    }\n",
              "\n",
              "    [theme=dark] .colab-df-convert {\n",
              "      background-color: #3B4455;\n",
              "      fill: #D2E3FC;\n",
              "    }\n",
              "\n",
              "    [theme=dark] .colab-df-convert:hover {\n",
              "      background-color: #434B5C;\n",
              "      box-shadow: 0px 1px 3px 1px rgba(0, 0, 0, 0.15);\n",
              "      filter: drop-shadow(0px 1px 2px rgba(0, 0, 0, 0.3));\n",
              "      fill: #FFFFFF;\n",
              "    }\n",
              "  </style>\n",
              "\n",
              "      <script>\n",
              "        const buttonEl =\n",
              "          document.querySelector('#df-0eed6758-685c-4c10-bd66-1f91ac051246 button.colab-df-convert');\n",
              "        buttonEl.style.display =\n",
              "          google.colab.kernel.accessAllowed ? 'block' : 'none';\n",
              "\n",
              "        async function convertToInteractive(key) {\n",
              "          const element = document.querySelector('#df-0eed6758-685c-4c10-bd66-1f91ac051246');\n",
              "          const dataTable =\n",
              "            await google.colab.kernel.invokeFunction('convertToInteractive',\n",
              "                                                     [key], {});\n",
              "          if (!dataTable) return;\n",
              "\n",
              "          const docLinkHtml = 'Like what you see? Visit the ' +\n",
              "            '<a target=\"_blank\" href=https://colab.research.google.com/notebooks/data_table.ipynb>data table notebook</a>'\n",
              "            + ' to learn more about interactive tables.';\n",
              "          element.innerHTML = '';\n",
              "          dataTable['output_type'] = 'display_data';\n",
              "          await google.colab.output.renderOutput(dataTable, element);\n",
              "          const docLink = document.createElement('div');\n",
              "          docLink.innerHTML = docLinkHtml;\n",
              "          element.appendChild(docLink);\n",
              "        }\n",
              "      </script>\n",
              "    </div>\n",
              "  </div>\n",
              "  "
            ]
          },
          "metadata": {},
          "execution_count": 12
        }
      ]
    },
    {
      "cell_type": "code",
      "source": [
        "train_imgs, train_df = create_datasets(train_df, IMG_SIZE)\n",
        "val_imgs, val_df = create_datasets(val_df, IMG_SIZE)\n",
        "test_imgs, test_df = create_datasets(test_df, IMG_SIZE)"
      ],
      "metadata": {
        "colab": {
          "base_uri": "https://localhost:8080/"
        },
        "id": "YnaRuVoURelv",
        "outputId": "7e27a00c-dd17-4ef7-c13b-309a5dc2581f"
      },
      "execution_count": 13,
      "outputs": [
        {
          "output_type": "stream",
          "name": "stderr",
          "text": [
            "100%|██████████| 7994/7994 [13:56<00:00,  9.56it/s]\n",
            "100%|██████████| 1713/1713 [02:56<00:00,  9.72it/s]\n",
            "100%|██████████| 1714/1714 [02:44<00:00, 10.41it/s]\n"
          ]
        }
      ]
    },
    {
      "cell_type": "code",
      "source": [
        "model = build_model(IMG_SIZE, 3, output_dim=4)\n",
        "model.summary()"
      ],
      "metadata": {
        "colab": {
          "base_uri": "https://localhost:8080/"
        },
        "id": "6sZqzTcyth1E",
        "outputId": "b76b9b42-6db0-4a26-bb5c-f3809a9b9ae8"
      },
      "execution_count": 14,
      "outputs": [
        {
          "output_type": "stream",
          "name": "stdout",
          "text": [
            "Model: \"model\"\n",
            "_________________________________________________________________\n",
            " Layer (type)                Output Shape              Param #   \n",
            "=================================================================\n",
            " input_1 (InputLayer)        [(None, 256, 256, 3)]     0         \n",
            "                                                                 \n",
            " resnet50 (Functional)       (None, 8, 8, 2048)        23587712  \n",
            "                                                                 \n",
            " global_average_pooling2d (G  (None, 2048)             0         \n",
            " lobalAveragePooling2D)                                          \n",
            "                                                                 \n",
            " dropout (Dropout)           (None, 2048)              0         \n",
            "                                                                 \n",
            " dense (Dense)               (None, 4)                 8196      \n",
            "                                                                 \n",
            "=================================================================\n",
            "Total params: 23,595,908\n",
            "Trainable params: 23,542,788\n",
            "Non-trainable params: 53,120\n",
            "_________________________________________________________________\n"
          ]
        }
      ]
    },
    {
      "cell_type": "code",
      "source": [
        "history = model.fit(train_imgs, \n",
        "                    train_df, \n",
        "                    batch_size=BATCH_SIZE, \n",
        "                    epochs=EPOCHS,\n",
        "                    callbacks=[es_callback, get_lr_callback(BATCH_SIZE)], \n",
        "                    validation_data=(val_imgs, val_df))\n",
        "\n",
        "\n",
        "pd.DataFrame(history.history)[['accuracy', 'val_accuracy']].plot()\n",
        "pd.DataFrame(history.history)[['loss', 'val_loss']].plot()\n",
        "plt.show()"
      ],
      "metadata": {
        "colab": {
          "base_uri": "https://localhost:8080/",
          "height": 1000
        },
        "id": "7rWWxgjt4KT9",
        "outputId": "e04a9130-358c-4aac-8d1d-0d457a587e1c"
      },
      "execution_count": 15,
      "outputs": [
        {
          "output_type": "stream",
          "name": "stdout",
          "text": [
            "Epoch 1/50\n",
            "250/250 [==============================] - 738s 3s/step - loss: 0.4844 - accuracy: 0.8172 - val_loss: 3.3570 - val_accuracy: 0.2107 - lr: 3.0000e-04\n",
            "Epoch 2/50\n",
            "250/250 [==============================] - 728s 3s/step - loss: 0.1834 - accuracy: 0.9405 - val_loss: 1.8336 - val_accuracy: 0.3637 - lr: 3.0000e-04\n",
            "Epoch 3/50\n",
            "250/250 [==============================] - 728s 3s/step - loss: 0.1230 - accuracy: 0.9615 - val_loss: 0.5152 - val_accuracy: 0.7904 - lr: 3.0000e-04\n",
            "Epoch 4/50\n",
            "250/250 [==============================] - 723s 3s/step - loss: 0.0836 - accuracy: 0.9746 - val_loss: 0.2509 - val_accuracy: 0.9142 - lr: 3.0000e-04\n",
            "Epoch 5/50\n",
            "250/250 [==============================] - 723s 3s/step - loss: 0.0616 - accuracy: 0.9809 - val_loss: 0.1912 - val_accuracy: 0.9405 - lr: 3.0000e-04\n",
            "Epoch 6/50\n",
            "250/250 [==============================] - 726s 3s/step - loss: 0.0487 - accuracy: 0.9869 - val_loss: 0.1882 - val_accuracy: 0.9399 - lr: 3.0000e-04\n",
            "Epoch 7/50\n",
            "250/250 [==============================] - 725s 3s/step - loss: 0.0323 - accuracy: 0.9917 - val_loss: 0.1992 - val_accuracy: 0.9405 - lr: 3.0000e-04\n",
            "Epoch 8/50\n",
            "250/250 [==============================] - 727s 3s/step - loss: 0.0273 - accuracy: 0.9937 - val_loss: 0.2041 - val_accuracy: 0.9370 - lr: 3.0000e-04\n",
            "Epoch 9/50\n",
            "250/250 [==============================] - 724s 3s/step - loss: 0.0242 - accuracy: 0.9949 - val_loss: 0.2098 - val_accuracy: 0.9375 - lr: 3.0000e-04\n",
            "Epoch 10/50\n",
            "250/250 [==============================] - 726s 3s/step - loss: 0.0172 - accuracy: 0.9974 - val_loss: 0.2030 - val_accuracy: 0.9387 - lr: 1.5000e-04\n",
            "Epoch 11/50\n",
            "250/250 [==============================] - 731s 3s/step - loss: 0.0146 - accuracy: 0.9971 - val_loss: 0.2024 - val_accuracy: 0.9387 - lr: 1.5000e-04\n",
            "Epoch 12/50\n",
            "250/250 [==============================] - 730s 3s/step - loss: 0.0144 - accuracy: 0.9975 - val_loss: 0.2064 - val_accuracy: 0.9381 - lr: 1.5000e-04\n",
            "Epoch 13/50\n",
            "250/250 [==============================] - 729s 3s/step - loss: 0.0120 - accuracy: 0.9984 - val_loss: 0.2100 - val_accuracy: 0.9387 - lr: 1.5000e-04\n",
            "Epoch 14/50\n",
            "250/250 [==============================] - 728s 3s/step - loss: 0.0131 - accuracy: 0.9971 - val_loss: 0.2069 - val_accuracy: 0.9375 - lr: 1.5000e-04\n",
            "Epoch 15/50\n",
            "250/250 [==============================] - 732s 3s/step - loss: 0.0108 - accuracy: 0.9982 - val_loss: 0.2127 - val_accuracy: 0.9387 - lr: 1.5000e-04\n",
            "Epoch 16/50\n",
            "250/250 [==============================] - ETA: 0s - loss: 0.0108 - accuracy: 0.9981Restoring model weights from the end of the best epoch: 6.\n",
            "250/250 [==============================] - 727s 3s/step - loss: 0.0108 - accuracy: 0.9981 - val_loss: 0.2176 - val_accuracy: 0.9410 - lr: 1.5000e-04\n",
            "Epoch 16: early stopping\n"
          ]
        },
        {
          "output_type": "display_data",
          "data": {
            "text/plain": [
              "<Figure size 432x288 with 1 Axes>"
            ],
            "image/png": "[encoded data removed]"
          },
          "metadata": {
            "needs_background": "light"
          }
        },
        {
          "output_type": "display_data",
          "data": {
            "text/plain": [
              "<Figure size 432x288 with 1 Axes>"
            ],
            "image/png": "[encoded data removed]"
          },
          "metadata": {
            "needs_background": "light"
          }
        }
      ]
    },
    {
      "cell_type": "code",
      "source": [
        "model.evaluate(test_imgs, test_df) "
      ],
      "metadata": {
        "colab": {
          "base_uri": "https://localhost:8080/"
        },
        "id": "t7PV6ZOi4iXk",
        "outputId": "a8a3cc57-dc7a-4fc1-8652-af00c4d596ac"
      },
      "execution_count": 16,
      "outputs": [
        {
          "output_type": "stream",
          "name": "stdout",
          "text": [
            "54/54 [==============================] - 27s 485ms/step - loss: 0.1788 - accuracy: 0.9440\n"
          ]
        },
        {
          "output_type": "execute_result",
          "data": {
            "text/plain": [
              "[0.17884710431098938, 0.9439906477928162]"
            ]
          },
          "metadata": {},
          "execution_count": 16
        }
      ]
    },
    {
      "cell_type": "markdown",
      "source": [
        "---\n",
        "# 2. High-Quality Photos Only "
      ],
      "metadata": {
        "id": "QCFkrmKeBDVs"
      }
    },
    {
      "cell_type": "code",
      "source": [
        "# select only high quality photos\n",
        "df = df.query('photo_quality == 1')\n",
        "df['label'].value_counts()"
      ],
      "metadata": {
        "colab": {
          "base_uri": "https://localhost:8080/"
        },
        "id": "macNoIu99uDy",
        "outputId": "f5c2fbc3-0b44-42aa-de93-fbfa7ee5499b"
      },
      "execution_count": 12,
      "outputs": [
        {
          "output_type": "execute_result",
          "data": {
            "text/plain": [
              "bee       2469\n",
              "insect    2439\n",
              "wasp      2127\n",
              "Name: label, dtype: int64"
            ]
          },
          "metadata": {},
          "execution_count": 12
        }
      ]
    },
    {
      "cell_type": "code",
      "source": [
        "train_df = df.query('is_validation == 0 & is_final_validation == 0').reset_index(drop=True)\n",
        "val_df = df.query('is_validation == 1').reset_index(drop=True)\n",
        "test_df = df.query('is_final_validation == 1').reset_index(drop=True)"
      ],
      "metadata": {
        "id": "rmU8UScb9rdd"
      },
      "execution_count": 13,
      "outputs": []
    },
    {
      "cell_type": "code",
      "source": [
        "train_imgs, train_df = create_datasets(train_df, IMG_SIZE)\n",
        "val_imgs, val_df = create_datasets(val_df, IMG_SIZE)\n",
        "test_imgs, test_df = create_datasets(test_df, IMG_SIZE)"
      ],
      "metadata": {
        "colab": {
          "base_uri": "https://localhost:8080/"
        },
        "id": "W6M5iqOZ9-Qk",
        "outputId": "c9c1d9fe-8074-4363-b15d-9e24f081f1d9"
      },
      "execution_count": 14,
      "outputs": [
        {
          "output_type": "stream",
          "name": "stderr",
          "text": [
            "100%|██████████| 4908/4908 [20:24<00:00,  4.01it/s]\n",
            "100%|██████████| 1043/1043 [04:09<00:00,  4.18it/s]\n",
            "100%|██████████| 1084/1084 [04:26<00:00,  4.07it/s]\n"
          ]
        }
      ]
    },
    {
      "cell_type": "code",
      "source": [
        "model2 = build_model(IMG_SIZE, 3, output_dim=3)\n",
        "model2.summary()"
      ],
      "metadata": {
        "colab": {
          "base_uri": "https://localhost:8080/"
        },
        "id": "ZtutpEYf-On_",
        "outputId": "0dd13e72-9a34-4034-f491-2887f161ea8e"
      },
      "execution_count": 15,
      "outputs": [
        {
          "output_type": "stream",
          "name": "stdout",
          "text": [
            "Downloading data from https://storage.googleapis.com/tensorflow/keras-applications/resnet/resnet50_weights_tf_dim_ordering_tf_kernels_notop.h5\n",
            "94773248/94765736 [==============================] - 1s 0us/step\n",
            "94781440/94765736 [==============================] - 1s 0us/step\n",
            "Model: \"model\"\n",
            "_________________________________________________________________\n",
            " Layer (type)                Output Shape              Param #   \n",
            "=================================================================\n",
            " input_1 (InputLayer)        [(None, 256, 256, 3)]     0         \n",
            "                                                                 \n",
            " resnet50 (Functional)       (None, 8, 8, 2048)        23587712  \n",
            "                                                                 \n",
            " global_average_pooling2d (G  (None, 2048)             0         \n",
            " lobalAveragePooling2D)                                          \n",
            "                                                                 \n",
            " dropout (Dropout)           (None, 2048)              0         \n",
            "                                                                 \n",
            " dense (Dense)               (None, 3)                 6147      \n",
            "                                                                 \n",
            "=================================================================\n",
            "Total params: 23,593,859\n",
            "Trainable params: 23,540,739\n",
            "Non-trainable params: 53,120\n",
            "_________________________________________________________________\n"
          ]
        }
      ]
    },
    {
      "cell_type": "code",
      "source": [
        "history2 = model2.fit(train_imgs, \n",
        "                    train_df, \n",
        "                    batch_size=BATCH_SIZE, \n",
        "                    epochs=EPOCHS,\n",
        "                    callbacks=[es_callback, get_lr_callback(BATCH_SIZE)], \n",
        "                    validation_data=(val_imgs, val_df))\n",
        "\n",
        "pd.DataFrame(history2.history)[['accuracy', 'val_accuracy']].plot()\n",
        "pd.DataFrame(history2.history)[['loss', 'val_loss']].plot()\n",
        "plt.show()"
      ],
      "metadata": {
        "colab": {
          "base_uri": "https://localhost:8080/",
          "height": 1000
        },
        "id": "P0lmmu7y-TKX",
        "outputId": "f00f6017-33d1-464b-aa58-e93e80d25c33"
      },
      "execution_count": 16,
      "outputs": [
        {
          "output_type": "stream",
          "name": "stdout",
          "text": [
            "Epoch 1/50\n",
            "154/154 [==============================] - 491s 3s/step - loss: 0.5912 - accuracy: 0.7506 - val_loss: 1.4734 - val_accuracy: 0.3423 - lr: 3.0000e-04\n",
            "Epoch 2/50\n",
            "154/154 [==============================] - 505s 3s/step - loss: 0.2661 - accuracy: 0.9053 - val_loss: 2.0169 - val_accuracy: 0.3423 - lr: 3.0000e-04\n",
            "Epoch 3/50\n",
            "154/154 [==============================] - 508s 3s/step - loss: 0.1756 - accuracy: 0.9409 - val_loss: 1.7660 - val_accuracy: 0.3739 - lr: 3.0000e-04\n",
            "Epoch 4/50\n",
            "154/154 [==============================] - 532s 3s/step - loss: 0.1260 - accuracy: 0.9576 - val_loss: 1.2028 - val_accuracy: 0.4938 - lr: 3.0000e-04\n",
            "Epoch 5/50\n",
            "154/154 [==============================] - 514s 3s/step - loss: 0.0897 - accuracy: 0.9723 - val_loss: 0.8559 - val_accuracy: 0.6826 - lr: 3.0000e-04\n",
            "Epoch 6/50\n",
            "154/154 [==============================] - 512s 3s/step - loss: 0.0691 - accuracy: 0.9802 - val_loss: 0.4667 - val_accuracy: 0.8274 - lr: 3.0000e-04\n",
            "Epoch 7/50\n",
            "154/154 [==============================] - 498s 3s/step - loss: 0.0484 - accuracy: 0.9868 - val_loss: 0.3042 - val_accuracy: 0.9051 - lr: 3.0000e-04\n",
            "Epoch 8/50\n",
            "154/154 [==============================] - 486s 3s/step - loss: 0.0408 - accuracy: 0.9916 - val_loss: 0.2834 - val_accuracy: 0.9175 - lr: 3.0000e-04\n",
            "Epoch 9/50\n",
            "154/154 [==============================] - 500s 3s/step - loss: 0.0297 - accuracy: 0.9941 - val_loss: 0.2991 - val_accuracy: 0.9195 - lr: 3.0000e-04\n",
            "Epoch 10/50\n",
            "154/154 [==============================] - 471s 3s/step - loss: 0.0247 - accuracy: 0.9961 - val_loss: 0.2991 - val_accuracy: 0.9156 - lr: 1.5000e-04\n",
            "Epoch 11/50\n",
            "154/154 [==============================] - 465s 3s/step - loss: 0.0250 - accuracy: 0.9951 - val_loss: 0.2966 - val_accuracy: 0.9156 - lr: 1.5000e-04\n",
            "Epoch 12/50\n",
            "154/154 [==============================] - 466s 3s/step - loss: 0.0217 - accuracy: 0.9961 - val_loss: 0.3058 - val_accuracy: 0.9166 - lr: 1.5000e-04\n",
            "Epoch 13/50\n",
            "154/154 [==============================] - 478s 3s/step - loss: 0.0187 - accuracy: 0.9982 - val_loss: 0.3073 - val_accuracy: 0.9185 - lr: 1.5000e-04\n",
            "Epoch 14/50\n",
            "154/154 [==============================] - 484s 3s/step - loss: 0.0192 - accuracy: 0.9976 - val_loss: 0.3147 - val_accuracy: 0.9195 - lr: 1.5000e-04\n",
            "Epoch 15/50\n",
            "154/154 [==============================] - 499s 3s/step - loss: 0.0186 - accuracy: 0.9974 - val_loss: 0.3100 - val_accuracy: 0.9166 - lr: 1.5000e-04\n",
            "Epoch 16/50\n",
            "154/154 [==============================] - 536s 3s/step - loss: 0.0134 - accuracy: 0.9984 - val_loss: 0.3135 - val_accuracy: 0.9166 - lr: 1.5000e-04\n",
            "Epoch 17/50\n",
            "154/154 [==============================] - 485s 3s/step - loss: 0.0136 - accuracy: 0.9988 - val_loss: 0.3141 - val_accuracy: 0.9156 - lr: 1.5000e-04\n",
            "Epoch 18/50\n",
            "154/154 [==============================] - ETA: 0s - loss: 0.0103 - accuracy: 0.9994Restoring model weights from the end of the best epoch: 8.\n",
            "154/154 [==============================] - 459s 3s/step - loss: 0.0103 - accuracy: 0.9994 - val_loss: 0.3204 - val_accuracy: 0.9147 - lr: 1.5000e-04\n",
            "Epoch 18: early stopping\n"
          ]
        },
        {
          "output_type": "display_data",
          "data": {
            "text/plain": [
              "<Figure size 432x288 with 1 Axes>"
            ],
            "image/png": "[encoded data removed]"
          },
          "metadata": {
            "needs_background": "light"
          }
        },
        {
          "output_type": "display_data",
          "data": {
            "text/plain": [
              "<Figure size 432x288 with 1 Axes>"
            ],
            "image/png": "[encoded data removed]"
          },
          "metadata": {
            "needs_background": "light"
          }
        }
      ]
    },
    {
      "cell_type": "code",
      "source": [
        "model2.evaluate(test_imgs, test_df) "
      ],
      "metadata": {
        "colab": {
          "base_uri": "https://localhost:8080/"
        },
        "id": "13ufpCAY-V7M",
        "outputId": "6b5e952b-da95-4d8a-b049-4a45eb72c974"
      },
      "execution_count": 17,
      "outputs": [
        {
          "output_type": "stream",
          "name": "stdout",
          "text": [
            "34/34 [==============================] - 18s 516ms/step - loss: 0.2596 - accuracy: 0.9207\n"
          ]
        },
        {
          "output_type": "execute_result",
          "data": {
            "text/plain": [
              "[0.2595682442188263, 0.9206641912460327]"
            ]
          },
          "metadata": {},
          "execution_count": 17
        }
      ]
    },
    {
      "cell_type": "markdown",
      "source": [
        "---\n",
        "# 3. Optimization"
      ],
      "metadata": {
        "id": "Nr7DRcywQdh0"
      }
    },
    {
      "cell_type": "markdown",
      "source": [
        "---\n",
        "#4. Extra Test"
      ],
      "metadata": {
        "id": "3Xs3azZnc26Q"
      }
    },
    {
      "cell_type": "code",
      "source": [
        "source_dir = ROOT+'challenge_test/'\n",
        "\n",
        "path=[]\n",
        "filelist=os.listdir(source_dir)\n",
        "for f in filelist:\n",
        "    fpath=os.path.join('challenge_test/',f)\n",
        "    path.append(fpath)\n",
        "Fseries=pd.Series(path, name='test_ds')\n",
        "df=pd.concat([Fseries], axis=1)"
      ],
      "metadata": {
        "id": "qCJ5T0mLdZoA"
      },
      "execution_count": 28,
      "outputs": []
    },
    {
      "cell_type": "code",
      "source": [
        "label_col = df.shape[0]*['insect']\n",
        "df_label = pd.DataFrame(label_col, columns=['label'])\n",
        "\n",
        "df_test2 = pd.concat([df,df_label], axis=1)\n",
        "df_test2.rename(columns = {'test_ds':'path'}, inplace = True)\n",
        "\n",
        "bee_col = df_test2.shape[0]*[0]\n",
        "df_bee = pd.DataFrame(bee_col, columns=['bee'])\n",
        "wasp_col = df_test2.shape[0]*[0]\n",
        "df_wasp = pd.DataFrame(wasp_col, columns=['wasp'])"
      ],
      "metadata": {
        "id": "D_TdEECrkjEu"
      },
      "execution_count": 44,
      "outputs": []
    },
    {
      "cell_type": "code",
      "source": [
        "challenge_imgs, challenge_df = create_datasets(df_test2, IMG_SIZE)"
      ],
      "metadata": {
        "colab": {
          "base_uri": "https://localhost:8080/"
        },
        "id": "R-rTYMw-kpAt",
        "outputId": "96dcbcfc-8e3e-453f-fbff-b49339d9813e"
      },
      "execution_count": 45,
      "outputs": [
        {
          "output_type": "stream",
          "name": "stderr",
          "text": [
            "100%|██████████| 37/37 [00:00<00:00, 87.66it/s]\n"
          ]
        }
      ]
    },
    {
      "cell_type": "code",
      "source": [
        "challenge_df = pd.concat([challenge_df,df_bee,df_wasp],axis=1)"
      ],
      "metadata": {
        "id": "XQGTjiMrvNO7"
      },
      "execution_count": 46,
      "outputs": []
    },
    {
      "cell_type": "code",
      "source": [
        "cols = train_df.columns\n",
        "cols"
      ],
      "metadata": {
        "colab": {
          "base_uri": "https://localhost:8080/"
        },
        "id": "tqoZmjlGuGoN",
        "outputId": "b6d1f103-78d2-4bbb-8df0-1e3341ce09d8"
      },
      "execution_count": 48,
      "outputs": [
        {
          "output_type": "execute_result",
          "data": {
            "text/plain": [
              "Index(['bee', 'insect', 'wasp'], dtype='object')"
            ]
          },
          "metadata": {},
          "execution_count": 48
        }
      ]
    },
    {
      "cell_type": "code",
      "source": [
        "challenge_df = challenge_df[cols]\n",
        "challenge_df.head()"
      ],
      "metadata": {
        "colab": {
          "base_uri": "https://localhost:8080/",
          "height": 206
        },
        "id": "D7kd5BtdmFX9",
        "outputId": "e25625b2-83b5-4b42-d688-c2e2e9ab6190"
      },
      "execution_count": 51,
      "outputs": [
        {
          "output_type": "execute_result",
          "data": {
            "text/plain": [
              "   bee  insect  wasp\n",
              "0    0       1     0\n",
              "1    0       1     0\n",
              "2    0       1     0\n",
              "3    0       1     0\n",
              "4    0       1     0"
            ],
            "text/html": [
              "\n",
              "  <div id=\"df-1b59082b-f2f4-4f88-afcf-28fd71fc938c\">\n",
              "    <div class=\"colab-df-container\">\n",
              "      <div>\n",
              "<style scoped>\n",
              "    .dataframe tbody tr th:only-of-type {\n",
              "        vertical-align: middle;\n",
              "    }\n",
              "\n",
              "    .dataframe tbody tr th {\n",
              "        vertical-align: top;\n",
              "    }\n",
              "\n",
              "    .dataframe thead th {\n",
              "        text-align: right;\n",
              "    }\n",
              "</style>\n",
              "<table border=\"1\" class=\"dataframe\">\n",
              "  <thead>\n",
              "    <tr style=\"text-align: right;\">\n",
              "      <th></th>\n",
              "      <th>bee</th>\n",
              "      <th>insect</th>\n",
              "      <th>wasp</th>\n",
              "    </tr>\n",
              "  </thead>\n",
              "  <tbody>\n",
              "    <tr>\n",
              "      <th>0</th>\n",
              "      <td>0</td>\n",
              "      <td>1</td>\n",
              "      <td>0</td>\n",
              "    </tr>\n",
              "    <tr>\n",
              "      <th>1</th>\n",
              "      <td>0</td>\n",
              "      <td>1</td>\n",
              "      <td>0</td>\n",
              "    </tr>\n",
              "    <tr>\n",
              "      <th>2</th>\n",
              "      <td>0</td>\n",
              "      <td>1</td>\n",
              "      <td>0</td>\n",
              "    </tr>\n",
              "    <tr>\n",
              "      <th>3</th>\n",
              "      <td>0</td>\n",
              "      <td>1</td>\n",
              "      <td>0</td>\n",
              "    </tr>\n",
              "    <tr>\n",
              "      <th>4</th>\n",
              "      <td>0</td>\n",
              "      <td>1</td>\n",
              "      <td>0</td>\n",
              "    </tr>\n",
              "  </tbody>\n",
              "</table>\n",
              "</div>\n",
              "      <button class=\"colab-df-convert\" onclick=\"convertToInteractive('df-1b59082b-f2f4-4f88-afcf-28fd71fc938c')\"\n",
              "              title=\"Convert this dataframe to an interactive table.\"\n",
              "              style=\"display:none;\">\n",
              "        \n",
              "  <svg xmlns=\"http://www.w3.org/2000/svg\" height=\"24px\"viewBox=\"0 0 24 24\"\n",
              "       width=\"24px\">\n",
              "    <path d=\"M0 0h24v24H0V0z\" fill=\"none\"/>\n",
              "    <path d=\"M18.56 5.44l.94 2.06.94-2.06 2.06-.94-2.06-.94-.94-2.06-.94 2.06-2.06.94zm-11 1L8.5 8.5l.94-2.06 2.06-.94-2.06-.94L8.5 2.5l-.94 2.06-2.06.94zm10 10l.94 2.06.94-2.06 2.06-.94-2.06-.94-.94-2.06-.94 2.06-2.06.94z\"/><path d=\"M17.41 7.96l-1.37-1.37c-.4-.4-.92-.59-1.43-.59-.52 0-1.04.2-1.43.59L10.3 9.45l-7.72 7.72c-.78.78-.78 2.05 0 2.83L4 21.41c.39.39.9.59 1.41.59.51 0 1.02-.2 1.41-.59l7.78-7.78 2.81-2.81c.8-.78.8-2.07 0-2.86zM5.41 20L4 18.59l7.72-7.72 1.47 1.35L5.41 20z\"/>\n",
              "  </svg>\n",
              "      </button>\n",
              "      \n",
              "  <style>\n",
              "    .colab-df-container {\n",
              "      display:flex;\n",
              "      flex-wrap:wrap;\n",
              "      gap: 12px;\n",
              "    }\n",
              "\n",
              "    .colab-df-convert {\n",
              "      background-color: #E8F0FE;\n",
              "      border: none;\n",
              "      border-radius: 50%;\n",
              "      cursor: pointer;\n",
              "      display: none;\n",
              "      fill: #1967D2;\n",
              "      height: 32px;\n",
              "      padding: 0 0 0 0;\n",
              "      width: 32px;\n",
              "    }\n",
              "\n",
              "    .colab-df-convert:hover {\n",
              "      background-color: #E2EBFA;\n",
              "      box-shadow: 0px 1px 2px rgba(60, 64, 67, 0.3), 0px 1px 3px 1px rgba(60, 64, 67, 0.15);\n",
              "      fill: #174EA6;\n",
              "    }\n",
              "\n",
              "    [theme=dark] .colab-df-convert {\n",
              "      background-color: #3B4455;\n",
              "      fill: #D2E3FC;\n",
              "    }\n",
              "\n",
              "    [theme=dark] .colab-df-convert:hover {\n",
              "      background-color: #434B5C;\n",
              "      box-shadow: 0px 1px 3px 1px rgba(0, 0, 0, 0.15);\n",
              "      filter: drop-shadow(0px 1px 2px rgba(0, 0, 0, 0.3));\n",
              "      fill: #FFFFFF;\n",
              "    }\n",
              "  </style>\n",
              "\n",
              "      <script>\n",
              "        const buttonEl =\n",
              "          document.querySelector('#df-1b59082b-f2f4-4f88-afcf-28fd71fc938c button.colab-df-convert');\n",
              "        buttonEl.style.display =\n",
              "          google.colab.kernel.accessAllowed ? 'block' : 'none';\n",
              "\n",
              "        async function convertToInteractive(key) {\n",
              "          const element = document.querySelector('#df-1b59082b-f2f4-4f88-afcf-28fd71fc938c');\n",
              "          const dataTable =\n",
              "            await google.colab.kernel.invokeFunction('convertToInteractive',\n",
              "                                                     [key], {});\n",
              "          if (!dataTable) return;\n",
              "\n",
              "          const docLinkHtml = 'Like what you see? Visit the ' +\n",
              "            '<a target=\"_blank\" href=https://colab.research.google.com/notebooks/data_table.ipynb>data table notebook</a>'\n",
              "            + ' to learn more about interactive tables.';\n",
              "          element.innerHTML = '';\n",
              "          dataTable['output_type'] = 'display_data';\n",
              "          await google.colab.output.renderOutput(dataTable, element);\n",
              "          const docLink = document.createElement('div');\n",
              "          docLink.innerHTML = docLinkHtml;\n",
              "          element.appendChild(docLink);\n",
              "        }\n",
              "      </script>\n",
              "    </div>\n",
              "  </div>\n",
              "  "
            ]
          },
          "metadata": {},
          "execution_count": 51
        }
      ]
    },
    {
      "cell_type": "code",
      "source": [
        "model2.evaluate(challenge_imgs, challenge_df)"
      ],
      "metadata": {
        "colab": {
          "base_uri": "https://localhost:8080/"
        },
        "id": "2lzdugnblPaU",
        "outputId": "5969e846-fc9e-40b0-e06c-309b052c24e9"
      },
      "execution_count": 52,
      "outputs": [
        {
          "output_type": "stream",
          "name": "stdout",
          "text": [
            "2/2 [==============================] - 2s 118ms/step - loss: 2.8728 - accuracy: 0.2432\n"
          ]
        },
        {
          "output_type": "execute_result",
          "data": {
            "text/plain": [
              "[2.8728044033050537, 0.2432432472705841]"
            ]
          },
          "metadata": {},
          "execution_count": 52
        }
      ]
    }
  ]
}